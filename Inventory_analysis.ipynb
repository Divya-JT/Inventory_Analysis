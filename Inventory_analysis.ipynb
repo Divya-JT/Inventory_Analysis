{
 "cells": [
  {
   "cell_type": "code",
   "execution_count": null,
   "id": "20f1014a",
   "metadata": {},
   "outputs": [],
   "source": []
  },
  {
   "cell_type": "code",
   "execution_count": 1,
   "id": "e89471ac",
   "metadata": {},
   "outputs": [],
   "source": [
    "import pandas as pd\n",
    "from prophet import Prophet\n",
    "import numpy as np\n",
    "import matplotlib.pyplot as plt\n",
    "import seaborn as sns"
   ]
  },
  {
   "cell_type": "code",
   "execution_count": 2,
   "id": "7838d77b",
   "metadata": {},
   "outputs": [],
   "source": [
    "# Load files\n",
    "beg = pd.read_csv(r'D:\\Unified_Mentor_Projects\\Inventory_data_analysis_P3\\Data\\BegInvFINAL12312016 (1).csv')\n",
    "end = pd.read_csv(r'D:\\Unified_Mentor_Projects\\Inventory_data_analysis_P3\\Data\\EndInvFINAL12312016 (1).csv')\n",
    "sales = pd.read_csv(r'D:\\Unified_Mentor_Projects\\Inventory_data_analysis_P3\\Data\\SalesFINAL12312016 (1).csv')\n",
    "invoice = pd.read_csv(r'D:\\Unified_Mentor_Projects\\Inventory_data_analysis_P3\\Data\\InvoicePurchases12312016 (1).csv')\n",
    "purchase = pd.read_csv(r'D:\\Unified_Mentor_Projects\\Inventory_data_analysis_P3\\Data\\PurchasesFINAL12312016 (1).csv')\n",
    "price = pd.read_csv(r'D:\\Unified_Mentor_Projects\\Inventory_data_analysis_P3\\Data\\2017PurchasePricesDec (1).csv')"
   ]
  },
  {
   "cell_type": "code",
   "execution_count": 5,
   "id": "896dfb8c",
   "metadata": {},
   "outputs": [
    {
     "name": "stdout",
     "output_type": "stream",
     "text": [
      "(206529, 9)\n",
      "<class 'pandas.core.frame.DataFrame'>\n",
      "RangeIndex: 206529 entries, 0 to 206528\n",
      "Data columns (total 9 columns):\n",
      " #   Column       Non-Null Count   Dtype  \n",
      "---  ------       --------------   -----  \n",
      " 0   InventoryId  206529 non-null  object \n",
      " 1   Store        206529 non-null  int64  \n",
      " 2   City         206529 non-null  object \n",
      " 3   Brand        206529 non-null  int64  \n",
      " 4   Description  206529 non-null  object \n",
      " 5   Size         206529 non-null  object \n",
      " 6   onHand       206529 non-null  int64  \n",
      " 7   Price        206529 non-null  float64\n",
      " 8   startDate    206529 non-null  object \n",
      "dtypes: float64(1), int64(3), object(5)\n",
      "memory usage: 14.2+ MB\n"
     ]
    },
    {
     "data": {
      "text/plain": [
       "InventoryId    0\n",
       "Store          0\n",
       "City           0\n",
       "Brand          0\n",
       "Description    0\n",
       "Size           0\n",
       "onHand         0\n",
       "Price          0\n",
       "startDate      0\n",
       "dtype: int64"
      ]
     },
     "execution_count": 5,
     "metadata": {},
     "output_type": "execute_result"
    }
   ],
   "source": [
    "beg.head()\n",
    "print(beg.shape)\n",
    "beg.info()\n",
    "beg.describe()\n",
    "beg.isnull().sum()\n",
    "beg.isna().sum()"
   ]
  },
  {
   "cell_type": "code",
   "execution_count": 6,
   "id": "db8b6e31",
   "metadata": {},
   "outputs": [
    {
     "data": {
      "text/plain": [
       "Index(['InventoryId', 'Store', 'City', 'Brand', 'Description', 'Size',\n",
       "       'onHand', 'Price', 'startDate'],\n",
       "      dtype='object')"
      ]
     },
     "execution_count": 6,
     "metadata": {},
     "output_type": "execute_result"
    }
   ],
   "source": [
    "beg.columns"
   ]
  },
  {
   "cell_type": "code",
   "execution_count": 7,
   "id": "92971cd4",
   "metadata": {},
   "outputs": [
    {
     "name": "stdout",
     "output_type": "stream",
     "text": [
      "(224489, 9)\n",
      "<class 'pandas.core.frame.DataFrame'>\n",
      "RangeIndex: 224489 entries, 0 to 224488\n",
      "Data columns (total 9 columns):\n",
      " #   Column       Non-Null Count   Dtype  \n",
      "---  ------       --------------   -----  \n",
      " 0   InventoryId  224489 non-null  object \n",
      " 1   Store        224489 non-null  int64  \n",
      " 2   City         223205 non-null  object \n",
      " 3   Brand        224489 non-null  int64  \n",
      " 4   Description  224489 non-null  object \n",
      " 5   Size         224489 non-null  object \n",
      " 6   onHand       224489 non-null  int64  \n",
      " 7   Price        224489 non-null  float64\n",
      " 8   endDate      224489 non-null  object \n",
      "dtypes: float64(1), int64(3), object(5)\n",
      "memory usage: 15.4+ MB\n"
     ]
    },
    {
     "data": {
      "text/plain": [
       "InventoryId       0\n",
       "Store             0\n",
       "City           1284\n",
       "Brand             0\n",
       "Description       0\n",
       "Size              0\n",
       "onHand            0\n",
       "Price             0\n",
       "endDate           0\n",
       "dtype: int64"
      ]
     },
     "execution_count": 7,
     "metadata": {},
     "output_type": "execute_result"
    }
   ],
   "source": [
    "end.head()\n",
    "print(end.shape)\n",
    "end.info()\n",
    "end.describe()\n",
    "end.isnull().sum()\n",
    "end.isna().sum()"
   ]
  },
  {
   "cell_type": "code",
   "execution_count": 9,
   "id": "e49a8cb2",
   "metadata": {},
   "outputs": [
    {
     "data": {
      "text/plain": [
       "Index(['InventoryId', 'Store', 'City', 'Brand', 'Description', 'Size',\n",
       "       'onHand', 'Price', 'endDate'],\n",
       "      dtype='object')"
      ]
     },
     "execution_count": 9,
     "metadata": {},
     "output_type": "execute_result"
    }
   ],
   "source": [
    "end.columns"
   ]
  },
  {
   "cell_type": "code",
   "execution_count": 10,
   "id": "24eb717b",
   "metadata": {},
   "outputs": [
    {
     "name": "stdout",
     "output_type": "stream",
     "text": [
      "(12261, 9)\n",
      "<class 'pandas.core.frame.DataFrame'>\n",
      "RangeIndex: 12261 entries, 0 to 12260\n",
      "Data columns (total 9 columns):\n",
      " #   Column          Non-Null Count  Dtype  \n",
      "---  ------          --------------  -----  \n",
      " 0   Brand           12261 non-null  int64  \n",
      " 1   Description     12260 non-null  object \n",
      " 2   Price           12261 non-null  float64\n",
      " 3   Size            12260 non-null  object \n",
      " 4   Volume          12260 non-null  object \n",
      " 5   Classification  12261 non-null  int64  \n",
      " 6   PurchasePrice   12261 non-null  float64\n",
      " 7   VendorNumber    12261 non-null  int64  \n",
      " 8   VendorName      12261 non-null  object \n",
      "dtypes: float64(2), int64(3), object(4)\n",
      "memory usage: 862.2+ KB\n"
     ]
    },
    {
     "data": {
      "text/plain": [
       "Brand             0\n",
       "Description       1\n",
       "Price             0\n",
       "Size              1\n",
       "Volume            1\n",
       "Classification    0\n",
       "PurchasePrice     0\n",
       "VendorNumber      0\n",
       "VendorName        0\n",
       "dtype: int64"
      ]
     },
     "execution_count": 10,
     "metadata": {},
     "output_type": "execute_result"
    }
   ],
   "source": [
    "price.head()\n",
    "print(price.shape)\n",
    "price.info()\n",
    "price.describe()\n",
    "price.isnull().sum()\n",
    "price.isna().sum()"
   ]
  },
  {
   "cell_type": "code",
   "execution_count": 11,
   "id": "12f139d3",
   "metadata": {},
   "outputs": [
    {
     "data": {
      "text/plain": [
       "Index(['Brand', 'Description', 'Price', 'Size', 'Volume', 'Classification',\n",
       "       'PurchasePrice', 'VendorNumber', 'VendorName'],\n",
       "      dtype='object')"
      ]
     },
     "execution_count": 11,
     "metadata": {},
     "output_type": "execute_result"
    }
   ],
   "source": [
    "price.columns"
   ]
  },
  {
   "cell_type": "code",
   "execution_count": 12,
   "id": "a79b5705",
   "metadata": {},
   "outputs": [
    {
     "name": "stdout",
     "output_type": "stream",
     "text": [
      "(1048575, 14)\n",
      "<class 'pandas.core.frame.DataFrame'>\n",
      "RangeIndex: 1048575 entries, 0 to 1048574\n",
      "Data columns (total 14 columns):\n",
      " #   Column          Non-Null Count    Dtype  \n",
      "---  ------          --------------    -----  \n",
      " 0   InventoryId     1048575 non-null  object \n",
      " 1   Store           1048575 non-null  int64  \n",
      " 2   Brand           1048575 non-null  int64  \n",
      " 3   Description     1048575 non-null  object \n",
      " 4   Size            1048575 non-null  object \n",
      " 5   SalesQuantity   1048575 non-null  int64  \n",
      " 6   SalesDollars    1048575 non-null  float64\n",
      " 7   SalesPrice      1048575 non-null  float64\n",
      " 8   SalesDate       1048575 non-null  object \n",
      " 9   Volume          1048575 non-null  int64  \n",
      " 10  Classification  1048575 non-null  int64  \n",
      " 11  ExciseTax       1048575 non-null  float64\n",
      " 12  VendorNo        1048575 non-null  int64  \n",
      " 13  VendorName      1048575 non-null  object \n",
      "dtypes: float64(3), int64(6), object(5)\n",
      "memory usage: 112.0+ MB\n"
     ]
    },
    {
     "data": {
      "text/plain": [
       "InventoryId       0\n",
       "Store             0\n",
       "Brand             0\n",
       "Description       0\n",
       "Size              0\n",
       "SalesQuantity     0\n",
       "SalesDollars      0\n",
       "SalesPrice        0\n",
       "SalesDate         0\n",
       "Volume            0\n",
       "Classification    0\n",
       "ExciseTax         0\n",
       "VendorNo          0\n",
       "VendorName        0\n",
       "dtype: int64"
      ]
     },
     "execution_count": 12,
     "metadata": {},
     "output_type": "execute_result"
    }
   ],
   "source": [
    "sales.columns\n",
    "sales.head()\n",
    "print(sales.shape)\n",
    "sales.info()\n",
    "sales.describe()\n",
    "sales.isnull().sum()\n",
    "sales.isna().sum()"
   ]
  },
  {
   "cell_type": "code",
   "execution_count": 13,
   "id": "f6acb44b",
   "metadata": {},
   "outputs": [
    {
     "data": {
      "text/plain": [
       "Index(['InventoryId', 'Store', 'Brand', 'Description', 'Size', 'SalesQuantity',\n",
       "       'SalesDollars', 'SalesPrice', 'SalesDate', 'Volume', 'Classification',\n",
       "       'ExciseTax', 'VendorNo', 'VendorName'],\n",
       "      dtype='object')"
      ]
     },
     "execution_count": 13,
     "metadata": {},
     "output_type": "execute_result"
    }
   ],
   "source": [
    "sales.columns"
   ]
  },
  {
   "cell_type": "code",
   "execution_count": 14,
   "id": "b9cc6442",
   "metadata": {},
   "outputs": [
    {
     "name": "stdout",
     "output_type": "stream",
     "text": [
      "(5543, 10)\n",
      "<class 'pandas.core.frame.DataFrame'>\n",
      "RangeIndex: 5543 entries, 0 to 5542\n",
      "Data columns (total 10 columns):\n",
      " #   Column        Non-Null Count  Dtype  \n",
      "---  ------        --------------  -----  \n",
      " 0   VendorNumber  5543 non-null   int64  \n",
      " 1   VendorName    5543 non-null   object \n",
      " 2   InvoiceDate   5543 non-null   object \n",
      " 3   PONumber      5543 non-null   int64  \n",
      " 4   PODate        5543 non-null   object \n",
      " 5   PayDate       5543 non-null   object \n",
      " 6   Quantity      5543 non-null   int64  \n",
      " 7   Dollars       5543 non-null   float64\n",
      " 8   Freight       5543 non-null   float64\n",
      " 9   Approval      374 non-null    object \n",
      "dtypes: float64(2), int64(3), object(5)\n",
      "memory usage: 433.2+ KB\n"
     ]
    },
    {
     "data": {
      "text/plain": [
       "VendorNumber       0\n",
       "VendorName         0\n",
       "InvoiceDate        0\n",
       "PONumber           0\n",
       "PODate             0\n",
       "PayDate            0\n",
       "Quantity           0\n",
       "Dollars            0\n",
       "Freight            0\n",
       "Approval        5169\n",
       "dtype: int64"
      ]
     },
     "execution_count": 14,
     "metadata": {},
     "output_type": "execute_result"
    }
   ],
   "source": [
    "invoice.columns\n",
    "invoice.head()\n",
    "print(invoice.shape)\n",
    "invoice.info()\n",
    "invoice.describe()\n",
    "invoice.isnull().sum()\n",
    "invoice.isna().sum()\n"
   ]
  },
  {
   "cell_type": "code",
   "execution_count": 15,
   "id": "bef80d63",
   "metadata": {},
   "outputs": [
    {
     "data": {
      "text/plain": [
       "Index(['VendorNumber', 'VendorName', 'InvoiceDate', 'PONumber', 'PODate',\n",
       "       'PayDate', 'Quantity', 'Dollars', 'Freight', 'Approval'],\n",
       "      dtype='object')"
      ]
     },
     "execution_count": 15,
     "metadata": {},
     "output_type": "execute_result"
    }
   ],
   "source": [
    "invoice.columns"
   ]
  },
  {
   "cell_type": "code",
   "execution_count": 16,
   "id": "e3da1416",
   "metadata": {},
   "outputs": [
    {
     "name": "stdout",
     "output_type": "stream",
     "text": [
      "(2372474, 16)\n",
      "<class 'pandas.core.frame.DataFrame'>\n",
      "RangeIndex: 2372474 entries, 0 to 2372473\n",
      "Data columns (total 16 columns):\n",
      " #   Column          Dtype  \n",
      "---  ------          -----  \n",
      " 0   InventoryId     object \n",
      " 1   Store           int64  \n",
      " 2   Brand           int64  \n",
      " 3   Description     object \n",
      " 4   Size            object \n",
      " 5   VendorNumber    int64  \n",
      " 6   VendorName      object \n",
      " 7   PONumber        int64  \n",
      " 8   PODate          object \n",
      " 9   ReceivingDate   object \n",
      " 10  InvoiceDate     object \n",
      " 11  PayDate         object \n",
      " 12  PurchasePrice   float64\n",
      " 13  Quantity        int64  \n",
      " 14  Dollars         float64\n",
      " 15  Classification  int64  \n",
      "dtypes: float64(2), int64(6), object(8)\n",
      "memory usage: 289.6+ MB\n"
     ]
    },
    {
     "data": {
      "text/plain": [
       "InventoryId       0\n",
       "Store             0\n",
       "Brand             0\n",
       "Description       0\n",
       "Size              3\n",
       "VendorNumber      0\n",
       "VendorName        0\n",
       "PONumber          0\n",
       "PODate            0\n",
       "ReceivingDate     0\n",
       "InvoiceDate       0\n",
       "PayDate           0\n",
       "PurchasePrice     0\n",
       "Quantity          0\n",
       "Dollars           0\n",
       "Classification    0\n",
       "dtype: int64"
      ]
     },
     "execution_count": 16,
     "metadata": {},
     "output_type": "execute_result"
    }
   ],
   "source": [
    "purchase.columns\n",
    "purchase.head()\n",
    "print(purchase.shape)\n",
    "purchase.info()\n",
    "purchase.describe()\n",
    "purchase.isnull().sum()\n",
    "purchase.isna().sum()"
   ]
  },
  {
   "cell_type": "code",
   "execution_count": 17,
   "id": "68ee6114",
   "metadata": {},
   "outputs": [
    {
     "data": {
      "text/plain": [
       "Index(['InventoryId', 'Store', 'Brand', 'Description', 'Size', 'VendorNumber',\n",
       "       'VendorName', 'PONumber', 'PODate', 'ReceivingDate', 'InvoiceDate',\n",
       "       'PayDate', 'PurchasePrice', 'Quantity', 'Dollars', 'Classification'],\n",
       "      dtype='object')"
      ]
     },
     "execution_count": 17,
     "metadata": {},
     "output_type": "execute_result"
    }
   ],
   "source": [
    "purchase.columns"
   ]
  },
  {
   "cell_type": "code",
   "execution_count": 3,
   "id": "21eb16dc",
   "metadata": {},
   "outputs": [],
   "source": [
    "# Clean column names (strip, lowercase, replace spaces)\n",
    "def clean_cols(df):\n",
    "    df.columns = df.columns.str.strip().str.lower().str.replace(' ', '_')\n",
    "    return df\n",
    "\n",
    "dfs = [beg, end, price, sales, invoice, purchase]\n",
    "beg, end, price, sales, invoice, purchase = [clean_cols(df) for df in dfs]\n"
   ]
  },
  {
   "cell_type": "code",
   "execution_count": 4,
   "id": "4a3faa38",
   "metadata": {},
   "outputs": [],
   "source": [
    "# Store your DataFrames in a dictionary\n",
    "dataframes = {\n",
    "    'beg': beg,\n",
    "    'end': end,\n",
    "    'invoice': invoice,\n",
    "    'purchase': purchase,\n",
    "    'sales': sales\n",
    "}\n",
    "\n",
    "# Define the date columns to convert\n",
    "date_cols = {\n",
    "    'beg': ['startdate'],\n",
    "    'end': ['enddate'],\n",
    "    'invoice': ['invoicedate', 'podate', 'paydate'],\n",
    "    'purchase': ['podate', 'receivingdate', 'invoicedate', 'paydate'],\n",
    "    'sales': ['salesdate']\n",
    "}\n",
    "\n",
    "# Convert columns to datetime\n",
    "for name, cols in date_cols.items():\n",
    "    for col in cols:\n",
    "        dataframes[name][col] = pd.to_datetime(dataframes[name][col], errors='coerce')\n"
   ]
  },
  {
   "cell_type": "code",
   "execution_count": 5,
   "id": "bd4c530f",
   "metadata": {},
   "outputs": [],
   "source": [
    "# Step 1: Merge sales with beginning inventory\n",
    "master = sales.merge(beg, on=['inventoryid', 'store', 'brand', 'description', 'size'], how='left', suffixes=('', '_begin'))"
   ]
  },
  {
   "cell_type": "code",
   "execution_count": 6,
   "id": "a34a5ee1",
   "metadata": {},
   "outputs": [],
   "source": [
    "# Step 2: Merge with ending inventory\n",
    "master = master.merge(end, on=['inventoryid', 'store', 'brand', 'description', 'size'], how='left', suffixes=('', '_end'))\n",
    "\n"
   ]
  },
  {
   "cell_type": "code",
   "execution_count": null,
   "id": "f171e0fa",
   "metadata": {},
   "outputs": [],
   "source": [
    "# Step 3: Merge with purchase data\n",
    "master = master.merge(purchase[['inventoryid', 'store', 'ponumber', 'vendornumber', 'receivingdate', 'purchaseprice', 'quantity', 'dollars']],\n",
    "                      on=['inventoryid', 'store'], how='left')\n",
    "\n"
   ]
  },
  {
   "cell_type": "code",
   "execution_count": 9,
   "id": "fe68b212",
   "metadata": {},
   "outputs": [],
   "source": [
    "# Step 4: Merge with purchase price data\n",
    "master = master.merge(price[['brand', 'description', 'size', 'purchaseprice']],\n",
    "                      on=['brand', 'description', 'size'], how='left', suffixes=('', '_catalog'))\n",
    "\n"
   ]
  },
  {
   "cell_type": "code",
   "execution_count": null,
   "id": "d02c6e86",
   "metadata": {},
   "outputs": [],
   "source": [
    "# Step 5: Merge with invoice\n",
    "master = master.merge(invoice[['vendornumber', 'ponumber', 'podate', 'paydate', 'invoicedate', 'freight']],\n",
    "                      on=['vendornumber', 'ponumber'], how='left')"
   ]
  },
  {
   "cell_type": "code",
   "execution_count": null,
   "id": "735957d5",
   "metadata": {},
   "outputs": [],
   "source": [
    "print(master.shape)\n",
    "print(master.dtypes)\n",
    "print(master.head())\n"
   ]
  },
  {
   "cell_type": "code",
   "execution_count": null,
   "id": "3fd9e201",
   "metadata": {},
   "outputs": [],
   "source": [
    "null_summary = master.isnull().sum().sort_values(ascending=False)\n",
    "print(null_summary[null_summary > 0])\n"
   ]
  },
  {
   "cell_type": "code",
   "execution_count": null,
   "id": "5712ab3c",
   "metadata": {},
   "outputs": [],
   "source": [
    "duplicate_rows = master[master.duplicated()]\n",
    "print(f\"Duplicate rows: {len(duplicate_rows)}\")\n"
   ]
  },
  {
   "cell_type": "code",
   "execution_count": null,
   "id": "3661381f",
   "metadata": {},
   "outputs": [],
   "source": [
    "# Drop if no unique identifiers are violated\n",
    "master = master.drop_duplicates()\n"
   ]
  },
  {
   "cell_type": "code",
   "execution_count": null,
   "id": "59ed682f",
   "metadata": {},
   "outputs": [],
   "source": [
    "print(master[master['salesquantity'] < 0])\n",
    "print(master[master['onhand'] < 0])\n",
    "print(master[master['price'] <= 0])\n"
   ]
  },
  {
   "cell_type": "code",
   "execution_count": null,
   "id": "e02d5cd2",
   "metadata": {},
   "outputs": [],
   "source": [
    "print(master['startdate'].notnull().mean())  # % records matched with begin inventory\n",
    "print(master['enddate'].notnull().mean())    # % matched with end inventory\n",
    "print(master['purchaseprice'].notnull().mean())  # % with purchase price\n",
    "print(master['receivingdate'].notnull().mean())  # % with valid PO received\n"
   ]
  },
  {
   "cell_type": "code",
   "execution_count": null,
   "id": "ad9942ac",
   "metadata": {},
   "outputs": [],
   "source": [
    "numeric_cols = ['salesquantity', 'salesdollars', 'onhand', 'price', 'purchaseprice', 'freight', 'dollars']\n",
    "master[numeric_cols] = master[numeric_cols].apply(pd.to_numeric, errors='coerce')\n"
   ]
  },
  {
   "cell_type": "code",
   "execution_count": null,
   "id": "7c606ec9",
   "metadata": {},
   "outputs": [],
   "source": [
    "# Unified purchase price (prefer transaction price, fallback to catalog)\n",
    "master['final_purchase_price'] = master['purchaseprice'].combine_first(master['purchaseprice_catalog'])\n",
    "\n",
    "# Inventory value at sale point\n",
    "master['begin_inventory_value'] = master['onhand'] * master['price']\n",
    "\n",
    "# Sales value check\n",
    "master['sales_check'] = master['salesquantity'] * master['salesprice']\n"
   ]
  },
  {
   "cell_type": "code",
   "execution_count": null,
   "id": "44295093",
   "metadata": {},
   "outputs": [],
   "source": [
    "import os\n",
    "if os.path.exists(r'D:\\Unified_Mentor_Projects\\Inventory_data_analysis_P3\\Data\\cleaned_master_inventory.csv'):\n",
    "  os.remove(r'D:\\Unified_Mentor_Projects\\Inventory_data_analysis_P3\\Data\\cleaned_master_inventory.csv')\n",
    "  print(\"File removed successfully\")\n",
    "else:\n",
    "  print(\"The file does not exist\")\n",
    "  \n",
    "master.to_csv(r'D:\\Unified_Mentor_Projects\\Inventory_data_analysis_P3\\Data\\cleaned_master_inventory.csv', index=False)\n"
   ]
  },
  {
   "cell_type": "code",
   "execution_count": null,
   "id": "0dc2bdc8",
   "metadata": {},
   "outputs": [],
   "source": [
    "# phase 2"
   ]
  },
  {
   "cell_type": "code",
   "execution_count": null,
   "id": "59f40f54",
   "metadata": {},
   "outputs": [],
   "source": [
    " # Inventory Turnover & DIO\n",
    "# Average inventory from begin and end\n",
    "master['avg_inventory'] = (master['onhand'] + master['onhand_end']) / 2\n",
    "\n",
    "# Inventory turnover ratio\n",
    "master['inventory_turnover'] = master['salesquantity'] / master['avg_inventory']\n",
    "\n",
    "# Handle div-by-zero or NaN\n",
    "master['inventory_turnover'].replace([float('inf'), -float('inf')], pd.NA, inplace=True)\n",
    "\n",
    "# DIO calculation\n",
    "master['DIO'] = 365 / master['inventory_turnover']\n"
   ]
  },
  {
   "cell_type": "code",
   "execution_count": null,
   "id": "a16d47c8",
   "metadata": {},
   "outputs": [],
   "source": [
    "master['DIO'] = master['DIO'].clip(upper=365*3)  # Cap at 3 years\n"
   ]
  },
  {
   "cell_type": "code",
   "execution_count": null,
   "id": "ee8d9efe",
   "metadata": {},
   "outputs": [],
   "source": [
    "# ABC Classification\n",
    "\n",
    "master['annual_sales_value'] = master['salesquantity'] * master['salesprice']\n",
    "\n",
    "# Aggregate per item\n",
    "abc_df = master.groupby(['inventoryid', 'brand', 'description'], as_index=False)['annual_sales_value'].sum()\n",
    "\n",
    "# Rank by contribution\n",
    "abc_df = abc_df.sort_values(by='annual_sales_value', ascending=False)\n",
    "abc_df['cum_percent'] = abc_df['annual_sales_value'].cumsum() / abc_df['annual_sales_value'].sum()\n",
    "\n",
    "# Assign A, B, C categories\n",
    "def classify_abc(p):\n",
    "    if p <= 0.8: return 'A'\n",
    "    elif p <= 0.95: return 'B'\n",
    "    else: return 'C'\n",
    "\n",
    "abc_df['ABC'] = abc_df['cum_percent'].apply(classify_abc)\n",
    "\n",
    "# Merge back to master\n",
    "master = master.merge(abc_df[['inventoryid', 'ABC']], on='inventoryid', how='left')\n"
   ]
  },
  {
   "cell_type": "code",
   "execution_count": null,
   "id": "6db0a527",
   "metadata": {},
   "outputs": [],
   "source": [
    "# Visualizations"
   ]
  },
  {
   "cell_type": "code",
   "execution_count": null,
   "id": "1e6f9295",
   "metadata": {},
   "outputs": [],
   "source": [
    "import seaborn as sns\n",
    "import matplotlib.pyplot as plt\n",
    "\n",
    "plt.figure(figsize=(8, 5))\n",
    "sns.boxplot(data=master, x='ABC', y='inventory_turnover')\n",
    "plt.title('Inventory Turnover by ABC Category')\n",
    "plt.ylabel('Turnover')\n",
    "plt.show()\n"
   ]
  },
  {
   "cell_type": "code",
   "execution_count": null,
   "id": "f1e32014",
   "metadata": {},
   "outputs": [],
   "source": [
    "plt.figure(figsize=(10, 4))\n",
    "sns.histplot(master['DIO'].dropna(), bins=50, kde=True)\n",
    "plt.title('Distribution of Days Inventory Outstanding (DIO)')\n",
    "plt.xlabel('Days')\n",
    "plt.show()\n"
   ]
  },
  {
   "cell_type": "code",
   "execution_count": null,
   "id": "0080417c",
   "metadata": {},
   "outputs": [],
   "source": [
    "abc_counts = master['ABC'].value_counts()\n",
    "\n",
    "plt.figure(figsize=(6, 6))\n",
    "abc_counts.plot.pie(autopct='%1.1f%%', colors=['#ff9999','#66b3ff','#99ff99'])\n",
    "plt.title('ABC Inventory Distribution')\n",
    "plt.ylabel('')\n",
    "plt.show()\n"
   ]
  },
  {
   "cell_type": "code",
   "execution_count": null,
   "id": "68d7ad3c",
   "metadata": {},
   "outputs": [],
   "source": [
    "# Basic stats per category\n",
    "summary = master.groupby('ABC').agg({\n",
    "    'salesquantity': 'sum',\n",
    "    'annual_sales_value': 'sum',\n",
    "    'inventory_turnover': 'mean',\n",
    "    'DIO': 'mean'\n",
    "}).reset_index()\n",
    "\n",
    "print(summary)\n"
   ]
  },
  {
   "cell_type": "code",
   "execution_count": null,
   "id": "1a3a0b33",
   "metadata": {},
   "outputs": [],
   "source": [
    "# Phase 3"
   ]
  },
  {
   "cell_type": "code",
   "execution_count": null,
   "id": "7311d4a1",
   "metadata": {},
   "outputs": [],
   "source": [
    "# Calculate Average Monthly Sales\n",
    "\n",
    "# Total sales months covered in the data (assumes full-year)\n",
    "months = 12\n",
    "\n",
    "# Average monthly sales\n",
    "master['avg_monthly_sales'] = master['salesquantity'] / months\n"
   ]
  },
  {
   "cell_type": "code",
   "execution_count": null,
   "id": "22cd3e43",
   "metadata": {},
   "outputs": [],
   "source": [
    "# Inventory Health Flags\n",
    "\n",
    "def health_flag(row):\n",
    "    if pd.isna(row['avg_monthly_sales']) or row['avg_monthly_sales'] == 0:\n",
    "        return 'Unknown'\n",
    "    if row['onhand'] > 1.2 * row['avg_monthly_sales']:\n",
    "        return 'Overstock'\n",
    "    elif row['onhand'] < 0.8 * row['avg_monthly_sales']:\n",
    "        return 'Understock'\n",
    "    else:\n",
    "        return 'Healthy'\n",
    "\n",
    "master['inventory_health'] = master.apply(health_flag, axis=1)\n"
   ]
  },
  {
   "cell_type": "code",
   "execution_count": null,
   "id": "0928e829",
   "metadata": {},
   "outputs": [],
   "source": [
    "# Inventory Aging (Days on Hand)\n",
    "\n",
    "from datetime import datetime\n",
    "\n",
    "today = pd.Timestamp(datetime.today().date())\n",
    "master['inventory_age_days'] = (today - master['startdate']).dt.days\n"
   ]
  },
  {
   "cell_type": "code",
   "execution_count": null,
   "id": "b9ab276c",
   "metadata": {},
   "outputs": [],
   "source": [
    "# Dead Stock Detection\n",
    "\n",
    "master['dead_stock_flag'] = ((master['salesquantity'] == 0) & \n",
    "                             (master['inventory_age_days'] > 180) &\n",
    "                             (master['onhand'] > 0)).astype(int)\n"
   ]
  },
  {
   "cell_type": "code",
   "execution_count": null,
   "id": "a914a6ba",
   "metadata": {},
   "outputs": [],
   "source": [
    "# C-Item Overstock Watchlist\n",
    "\n",
    "# Subset C-items that are overstocked\n",
    "c_item_overstock = master[(master['ABC'] == 'C') & (master['inventory_health'] == 'Overstock')]\n"
   ]
  },
  {
   "cell_type": "code",
   "execution_count": null,
   "id": "e3319cea",
   "metadata": {},
   "outputs": [],
   "source": [
    "# Visualizations\n",
    "\n",
    "plt.figure(figsize=(7, 4))\n",
    "sns.countplot(data=master, x='inventory_health', palette='Set2')\n",
    "plt.title('Inventory Health Status')\n",
    "plt.xlabel('Health Flag')\n",
    "plt.ylabel('Count')\n",
    "plt.show()\n"
   ]
  },
  {
   "cell_type": "code",
   "execution_count": null,
   "id": "c7351efe",
   "metadata": {},
   "outputs": [],
   "source": [
    "aging_by_brand = master.groupby('brand')['inventory_age_days'].mean().sort_values()\n",
    "\n",
    "plt.figure(figsize=(10, 5))\n",
    "sns.barplot(x=aging_by_brand.index, y=aging_by_brand.values)\n",
    "plt.xticks(rotation=45)\n",
    "plt.ylabel('Avg Inventory Age (Days)')\n",
    "plt.title('Average Inventory Aging by Brand')\n",
    "plt.show()\n"
   ]
  },
  {
   "cell_type": "code",
   "execution_count": null,
   "id": "9b4859c2",
   "metadata": {},
   "outputs": [],
   "source": [
    "# C-item Overstock Table Preview\n",
    "\n",
    "print(c_item_overstock[['inventoryid', 'brand', 'description', 'onhand', 'inventory_age_days']].head(10))\n",
    "\n"
   ]
  },
  {
   "cell_type": "code",
   "execution_count": null,
   "id": "6deab6dd",
   "metadata": {},
   "outputs": [],
   "source": [
    "# Summary Metrics\n",
    "\n",
    "summary_health = master['inventory_health'].value_counts(normalize=True) * 100\n",
    "print(\"Inventory Health Distribution (%):\")\n",
    "print(summary_health)\n",
    "\n",
    "dead_stock_count = master['dead_stock_flag'].sum()\n",
    "print(f\"\\nTotal Dead Stock Items: {dead_stock_count}\")\n"
   ]
  },
  {
   "cell_type": "code",
   "execution_count": null,
   "id": "74f72a08",
   "metadata": {},
   "outputs": [],
   "source": [
    "# Phase 4"
   ]
  },
  {
   "cell_type": "code",
   "execution_count": null,
   "id": "cccb7692",
   "metadata": {},
   "outputs": [],
   "source": [
    "# Forecast Demand (Simple Moving Average)\n",
    "\n",
    "# Forecast demand (monthly) using avg monthly sales\n",
    "demand_forecast = master.groupby('inventoryid')['avg_monthly_sales'].mean().reset_index()\n",
    "demand_forecast.rename(columns={'avg_monthly_sales': 'forecast_monthly_demand'}, inplace=True)\n",
    "\n",
    "# Merge back to master\n",
    "master = master.merge(demand_forecast, on='inventoryid', how='left')\n"
   ]
  },
  {
   "cell_type": "code",
   "execution_count": null,
   "id": "147477e5",
   "metadata": {},
   "outputs": [],
   "source": [
    "# EOQ Calculation\n",
    "\n",
    "import numpy as np\n",
    "\n",
    "ordering_cost = 100  # Assumed fixed per order\n",
    "holding_rate = 0.20  # 20% annual carrying cost\n",
    "\n",
    "# Annual demand forecast\n",
    "master['forecast_annual_demand'] = master['forecast_monthly_demand'] * 12\n",
    "\n",
    "# Holding cost per unit\n",
    "master['holding_cost'] = holding_rate * master['final_purchase_price']\n",
    "\n",
    "# EOQ formula\n",
    "master['EOQ'] = np.sqrt((2 * master['forecast_annual_demand'] * ordering_cost) / master['holding_cost'])\n"
   ]
  },
  {
   "cell_type": "code",
   "execution_count": null,
   "id": "27bfad56",
   "metadata": {},
   "outputs": [],
   "source": [
    "# Reorder Point (ROP) with Safety Stock\n",
    "\n",
    "lead_time_days = 10\n",
    "\n",
    "# Daily forecast demand\n",
    "master['daily_demand'] = master['forecast_annual_demand'] / 365\n",
    "\n",
    "# Basic safety stock\n",
    "master['safety_stock'] = 0.25 * master['daily_demand'] * lead_time_days\n",
    "\n",
    "# Reorder point\n",
    "master['ROP'] = (master['daily_demand'] * lead_time_days) + master['safety_stock']\n"
   ]
  },
  {
   "cell_type": "code",
   "execution_count": null,
   "id": "e88a38ec",
   "metadata": {},
   "outputs": [],
   "source": [
    "# Preview Table\n",
    "\n",
    "print(master[['inventoryid', 'brand', 'forecast_annual_demand', 'EOQ', 'ROP', 'safety_stock']].head(10))\n"
   ]
  },
  {
   "cell_type": "code",
   "execution_count": null,
   "id": "d1f9f693",
   "metadata": {},
   "outputs": [],
   "source": [
    "# EOQ & ROP Visual Check\n",
    "\n",
    "plt.figure(figsize=(10, 5))\n",
    "sample = master[['brand', 'EOQ', 'ROP']].dropna().sample(50)\n",
    "\n",
    "sns.scatterplot(data=sample, x='EOQ', y='ROP', hue='brand')\n",
    "plt.title('EOQ vs ROP (Sampled)')\n",
    "plt.xlabel('EOQ')\n",
    "plt.ylabel('ROP')\n",
    "plt.show()\n"
   ]
  },
  {
   "cell_type": "code",
   "execution_count": null,
   "id": "0b28c1cd",
   "metadata": {},
   "outputs": [],
   "source": [
    "# Prophet Forecasting (Per SKU)\n",
    "\n",
    "from prophet import Prophet\n",
    "\n",
    "# Pick one SKU for demonstration\n",
    "sample_id = master['inventoryid'].dropna().unique()[0]\n",
    "\n",
    "# Extract monthly sales history\n",
    "sku_sales = master[master['inventoryid'] == sample_id]\n",
    "\n",
    "monthly_sales = sku_sales.groupby('salesdate')['salesquantity'].sum().reset_index()\n",
    "monthly_sales = monthly_sales.resample('M', on='salesdate').sum().reset_index()\n",
    "\n",
    "# Rename columns for Prophet\n",
    "monthly_sales.columns = ['ds', 'y']\n"
   ]
  },
  {
   "cell_type": "code",
   "execution_count": null,
   "id": "189f62cb",
   "metadata": {},
   "outputs": [],
   "source": [
    "model = Prophet()\n",
    "model.fit(monthly_sales)\n"
   ]
  },
  {
   "cell_type": "code",
   "execution_count": null,
   "id": "84e62c4b",
   "metadata": {},
   "outputs": [],
   "source": [
    "future = model.make_future_dataframe(periods=6, freq='M')\n",
    "forecast = model.predict(future)\n",
    "\n",
    "# Plot forecast\n",
    "model.plot(forecast);\n"
   ]
  },
  {
   "cell_type": "code",
   "execution_count": null,
   "id": "0ad7879d",
   "metadata": {},
   "outputs": [],
   "source": [
    "forecast[['ds', 'yhat', 'yhat_lower', 'yhat_upper']].tail(6)\n"
   ]
  },
  {
   "cell_type": "code",
   "execution_count": null,
   "id": "026ddcd0",
   "metadata": {},
   "outputs": [],
   "source": [
    "# phase 5"
   ]
  },
  {
   "cell_type": "code",
   "execution_count": null,
   "id": "3f0c21c0",
   "metadata": {},
   "outputs": [],
   "source": [
    "# Lead Time Calculation\n",
    "\n",
    "# Calculate lead time for each PO\n",
    "purchase['lead_time_days'] = (purchase['receivingdate'] - purchase['podate']).dt.days\n",
    "\n",
    "# Average lead time per vendor\n",
    "vendor_lead = purchase.groupby('vendornumber')['lead_time_days'].mean().reset_index()\n",
    "vendor_lead.rename(columns={'lead_time_days': 'avg_lead_time'}, inplace=True)\n",
    "\n",
    "# Merge back to master\n",
    "master = master.merge(vendor_lead, on='vendornumber', how='left')\n"
   ]
  },
  {
   "cell_type": "code",
   "execution_count": null,
   "id": "0f621b12",
   "metadata": {},
   "outputs": [],
   "source": [
    "# Vendor On-Time Delivery %\n",
    "\n",
    "purchase['on_time'] = purchase['lead_time_days'] <= 10\n",
    "vendor_ontime = purchase.groupby('vendornumber')['on_time'].mean().reset_index()\n",
    "vendor_ontime.rename(columns={'on_time': 'on_time_delivery_pct'}, inplace=True)\n",
    "\n",
    "# Merge\n",
    "master = master.merge(vendor_ontime, on='vendornumber', how='left')\n",
    "\n"
   ]
  },
  {
   "cell_type": "code",
   "execution_count": null,
   "id": "ba0cf020",
   "metadata": {},
   "outputs": [],
   "source": [
    "# Procurement Trigger Logic\n",
    "\n",
    "master['trigger_reorder'] = master['onhand'] <= master['ROP']\n",
    "master['reorder_qty'] = master['EOQ'].where(master['trigger_reorder'], 0)\n"
   ]
  },
  {
   "cell_type": "code",
   "execution_count": null,
   "id": "098bcba8",
   "metadata": {},
   "outputs": [],
   "source": [
    "# Optional Vendor Scorecard\n",
    "\n",
    "vendor_scorecard = master.groupby('vendorname').agg({\n",
    "    'on_time_delivery_pct': 'mean',\n",
    "    'avg_lead_time': 'mean',\n",
    "    'final_purchase_price': 'mean'\n",
    "}).sort_values(by='on_time_delivery_pct', ascending=False)\n",
    "\n",
    "print(vendor_scorecard.head(10))\n"
   ]
  },
  {
   "cell_type": "code",
   "execution_count": null,
   "id": "e218de83",
   "metadata": {},
   "outputs": [],
   "source": [
    "# Phase 6"
   ]
  },
  {
   "cell_type": "code",
   "execution_count": null,
   "id": "413492ba",
   "metadata": {},
   "outputs": [],
   "source": [
    "# C-Item Overstock Flag\n",
    "\n",
    "c_item_overstock = master[\n",
    "    (master['ABC'] == 'C') &\n",
    "    (master['inventory_health'] == 'Overstock') &\n",
    "    (master['onhand'] > 0)\n",
    "]\n"
   ]
  },
  {
   "cell_type": "code",
   "execution_count": null,
   "id": "cc117e72",
   "metadata": {},
   "outputs": [],
   "source": [
    "print(c_item_overstock[['inventoryid', 'brand', 'description', 'onhand', 'salesquantity', 'inventory_age_days']].head(10))\n"
   ]
  },
  {
   "cell_type": "code",
   "execution_count": null,
   "id": "d1f471b6",
   "metadata": {},
   "outputs": [],
   "source": [
    "# Sales-to-Inventory Efficiency\n",
    "\n",
    "master['avg_inventory_qty'] = (master['onhand'] + master['onhand_end']) / 2\n",
    "master['sales_efficiency'] = master['salesquantity'] / master['avg_inventory_qty']\n"
   ]
  },
  {
   "cell_type": "code",
   "execution_count": null,
   "id": "a8b4160c",
   "metadata": {},
   "outputs": [],
   "source": [
    "# Sustainability Action Flag\n",
    "\n",
    "def sustainability_action(row):\n",
    "    if row['ABC'] == 'C':\n",
    "        if row['inventory_health'] == 'Overstock' and row['sales_efficiency'] < 0.2:\n",
    "            return 'Consider Markdown or Delisting'\n",
    "        elif row['inventory_age_days'] > 180:\n",
    "            return 'Slow Mover – Evaluate'\n",
    "    return 'No Action'\n",
    "\n",
    "master['sustainability_flag'] = master.apply(sustainability_action, axis=1)\n"
   ]
  },
  {
   "cell_type": "code",
   "execution_count": null,
   "id": "704200ef",
   "metadata": {},
   "outputs": [],
   "source": [
    "# Visuals for Sustainability\n",
    "\n",
    "plt.figure(figsize=(6, 6))\n",
    "master['sustainability_flag'].value_counts().plot.pie(autopct='%1.1f%%', colors=['#ffcccb','#c2f0c2','#d9d9d9'])\n",
    "plt.title('Sustainability Action Distribution')\n",
    "plt.ylabel('')\n",
    "plt.show()\n"
   ]
  },
  {
   "cell_type": "code",
   "execution_count": null,
   "id": "5c0ca650",
   "metadata": {},
   "outputs": [],
   "source": [
    "plt.figure(figsize=(8, 5))\n",
    "sns.boxplot(data=master, x='ABC', y='sales_efficiency')\n",
    "plt.title('Sales Efficiency by ABC Category')\n",
    "plt.ylabel('Sales / Avg Inventory')\n",
    "plt.show()\n"
   ]
  },
  {
   "cell_type": "code",
   "execution_count": null,
   "id": "d4913141",
   "metadata": {},
   "outputs": [],
   "source": [
    "# Sustainability Report Table (Optional)\n",
    "\n",
    "sustain_report = master[\n",
    "    master['sustainability_flag'] != 'No Action'\n",
    "][['inventoryid', 'brand', 'description', 'onhand', 'salesquantity', 'sales_efficiency', 'inventory_age_days', 'sustainability_flag']]\n",
    "\n",
    "print(sustain_report.head(10))\n"
   ]
  },
  {
   "cell_type": "code",
   "execution_count": null,
   "id": "f2e56931",
   "metadata": {},
   "outputs": [],
   "source": []
  }
 ],
 "metadata": {
  "kernelspec": {
   "display_name": "Python 3",
   "language": "python",
   "name": "python3"
  },
  "language_info": {
   "codemirror_mode": {
    "name": "ipython",
    "version": 3
   },
   "file_extension": ".py",
   "mimetype": "text/x-python",
   "name": "python",
   "nbconvert_exporter": "python",
   "pygments_lexer": "ipython3",
   "version": "3.12.10"
  }
 },
 "nbformat": 4,
 "nbformat_minor": 5
}
